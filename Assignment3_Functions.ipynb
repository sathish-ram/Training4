{
  "nbformat": 4,
  "nbformat_minor": 0,
  "metadata": {
    "colab": {
      "provenance": [],
      "authorship_tag": "ABX9TyMnxxJ7kgjhng+I70iXZj7T",
      "include_colab_link": true
    },
    "kernelspec": {
      "name": "python3",
      "display_name": "Python 3"
    },
    "language_info": {
      "name": "python"
    }
  },
  "cells": [
    {
      "cell_type": "markdown",
      "metadata": {
        "id": "view-in-github",
        "colab_type": "text"
      },
      "source": [
        "<a href=\"https://colab.research.google.com/github/sathish-ram/Training4/blob/main/Assignment3_Functions.ipynb\" target=\"_parent\"><img src=\"https://colab.research.google.com/assets/colab-badge.svg\" alt=\"Open In Colab\"/></a>"
      ]
    },
    {
      "cell_type": "code",
      "execution_count": 1,
      "metadata": {
        "colab": {
          "base_uri": "https://localhost:8080/"
        },
        "id": "p4KrftK_xcpj",
        "outputId": "393c3c4c-2016-4ca7-8beb-481e7e092ea6"
      },
      "outputs": [
        {
          "output_type": "stream",
          "name": "stdout",
          "text": [
            "20\n"
          ]
        }
      ],
      "source": [
        "def sum(num):\n",
        "  tot = 0\n",
        "  for e in num:\n",
        "        tot += e\n",
        "  return tot\n",
        "print(sum([8, 2, 3, 0, 7]))"
      ]
    },
    {
      "cell_type": "code",
      "source": [
        "def reverse_string(string):  \n",
        "  S = \"\"\n",
        "  for e in string:  \n",
        "    S = e + S  \n",
        "  return S\n",
        "print(reverse_string(\"1234abcd\"))"
      ],
      "metadata": {
        "colab": {
          "base_uri": "https://localhost:8080/"
        },
        "id": "wfkrEqRCxx4g",
        "outputId": "7287b55d-0b90-4c66-b362-53aa920c05a0"
      },
      "execution_count": 4,
      "outputs": [
        {
          "output_type": "stream",
          "name": "stdout",
          "text": [
            "dcba4321\n"
          ]
        }
      ]
    },
    {
      "cell_type": "code",
      "source": [
        "def letters_count(str):\n",
        "  Uppercase = 0\n",
        "  Lowercase = 0\n",
        "  for e in str:  \n",
        "    if(e.islower()):\n",
        "      Lowercase=Lowercase+1\n",
        "    elif(e.isupper()):\n",
        "      Uppercase = Uppercase + 1\n",
        "  print(f'No of Upper character is: {Uppercase}')\n",
        "  print(f\"No of Lower character: {Lowercase}\")\n",
        "letters_count(\"The quick Brow Fox\")"
      ],
      "metadata": {
        "colab": {
          "base_uri": "https://localhost:8080/"
        },
        "id": "6txuZbDuyK53",
        "outputId": "d55c8a53-0265-42e6-81aa-389e98bcfa13"
      },
      "execution_count": 6,
      "outputs": [
        {
          "output_type": "stream",
          "name": "stdout",
          "text": [
            "No of Upper character is: 3\n",
            "No of Lower character: 12\n"
          ]
        }
      ]
    }
  ]
}