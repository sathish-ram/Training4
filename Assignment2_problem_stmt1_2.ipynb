{
  "nbformat": 4,
  "nbformat_minor": 0,
  "metadata": {
    "colab": {
      "provenance": [],
      "authorship_tag": "ABX9TyMlrEXJe1QCAVxKa2GvI9Bm",
      "include_colab_link": true
    },
    "kernelspec": {
      "name": "python3",
      "display_name": "Python 3"
    },
    "language_info": {
      "name": "python"
    }
  },
  "cells": [
    {
      "cell_type": "markdown",
      "metadata": {
        "id": "view-in-github",
        "colab_type": "text"
      },
      "source": [
        "<a href=\"https://colab.research.google.com/github/sathish-ram/Training4/blob/main/Assignment2_problem_stmt1_2.ipynb\" target=\"_parent\"><img src=\"https://colab.research.google.com/assets/colab-badge.svg\" alt=\"Open In Colab\"/></a>"
      ]
    },
    {
      "cell_type": "code",
      "execution_count": null,
      "metadata": {
        "colab": {
          "base_uri": "https://localhost:8080/"
        },
        "id": "vlk78wzQcSEK",
        "outputId": "c0c8002a-d6de-43c0-e5e2-af03ee37d5c8"
      },
      "outputs": [
        {
          "output_type": "stream",
          "name": "stdout",
          "text": [
            "['phone.jpg', 'view.jpg', 'bear.jpg']\n"
          ]
        }
      ],
      "source": [
        "filenames=['view.jpg','bear.jpg','ball.png']\n",
        "\n",
        "filenames.insert(0,'phone.jpg')\n",
        "\n",
        "filenames.pop(3)\n",
        "\n",
        "print(filenames)"
      ]
    },
    {
      "cell_type": "code",
      "source": [
        "L3=[1,2,3,4,5,6,7,8,9,10]\n",
        "\n",
        "maximum=0\n",
        "\n",
        "minimum=1\n",
        "\n",
        "Average=0\n",
        "\n",
        "for e in L3:\n",
        "\n",
        "  if e>maximum:\n",
        "\n",
        "    maximum=e\n",
        "\n",
        "    Average = Average + maximum\n",
        "\n",
        "  if e<minimum:\n",
        "\n",
        "    minimum = e\n",
        "\n",
        "print(maximum)\n",
        "\n",
        "print(minimum)\n",
        "\n",
        "print(Average/len(L3))"
      ],
      "metadata": {
        "colab": {
          "base_uri": "https://localhost:8080/"
        },
        "id": "1Kw5oR6FczSq",
        "outputId": "9fd90803-2889-415a-90cb-e3a4bfc6ac63"
      },
      "execution_count": null,
      "outputs": [
        {
          "output_type": "stream",
          "name": "stdout",
          "text": [
            "10\n",
            "1\n",
            "5.5\n"
          ]
        }
      ]
    }
  ]
}