{
  "nbformat": 4,
  "nbformat_minor": 0,
  "metadata": {
    "colab": {
      "provenance": [],
      "authorship_tag": "ABX9TyMC8zA5VeLZL4ffg/WX32NJ",
      "include_colab_link": true
    },
    "kernelspec": {
      "name": "python3",
      "display_name": "Python 3"
    },
    "language_info": {
      "name": "python"
    }
  },
  "cells": [
    {
      "cell_type": "markdown",
      "metadata": {
        "id": "view-in-github",
        "colab_type": "text"
      },
      "source": [
        "<a href=\"https://colab.research.google.com/github/sathish-ram/Training4/blob/main/Assignment1_Problem1_2%2C_3.ipynb\" target=\"_parent\"><img src=\"https://colab.research.google.com/assets/colab-badge.svg\" alt=\"Open In Colab\"/></a>"
      ]
    },
    {
      "cell_type": "code",
      "execution_count": null,
      "metadata": {
        "colab": {
          "base_uri": "https://localhost:8080/"
        },
        "id": "JvdPem3m5gct",
        "outputId": "60001633-4d39-4581-d15b-37dfee2fdf72"
      },
      "outputs": [
        {
          "output_type": "stream",
          "name": "stdout",
          "text": [
            "Enter any Number:15\n",
            "Fizz Buzz\n"
          ]
        }
      ],
      "source": [
        "number = input(\"Enter any Number:\")\n",
        "if int(number) % 3 == 0 and int(number) % 5 == 0:\n",
        "    print(\"Fizz Buzz\")\n",
        "elif int(number) % 3 == 0:\n",
        "    print(\"Fizz\")\n",
        "elif int(number) % 5 == 0:\n",
        "    print(\"Fuzz\")\n",
        "else:\n",
        "    print(\"Not multiple of 3 or 5\")"
      ]
    },
    {
      "cell_type": "code",
      "source": [
        "total = 0\n",
        "while True:\n",
        "    d_w_trans = input()\n",
        "    if d_w_trans == \"\":\n",
        "        break\n",
        "    else:\n",
        "        d_w_trans = d_w_trans.split(\":\")\n",
        "        if d_w_trans[0] == \"D\":\n",
        "            total = total + int(d_w_trans[1])\n",
        "        elif d_w_trans[0] == \"W\":\n",
        "            total = total - int(d_w_trans[1])\n",
        "\n",
        "print(total)"
      ],
      "metadata": {
        "colab": {
          "base_uri": "https://localhost:8080/"
        },
        "id": "KwaU24T766Zj",
        "outputId": "f6148153-5c23-4454-b920-5ca71362044a"
      },
      "execution_count": null,
      "outputs": [
        {
          "output_type": "stream",
          "name": "stdout",
          "text": [
            "D: 100\n",
            "W: 50\n",
            "\n",
            "50\n"
          ]
        }
      ]
    },
    {
      "cell_type": "code",
      "source": [
        "call = int(input(\"enter the number of calls \"))\n",
        "calltime =0\n",
        "charges =0\n",
        "if(call<=100):\n",
        "  charges =200\n",
        "elif(call>=100 and call<=150):\n",
        "  charges = 200+((call-100)*0.60)\n",
        "elif(call<=200 and call>=151):\n",
        "  calltime = (call-150)\n",
        "  charges = 200+(((call-100)-calltime)*0.60)+calltime*0.50\n",
        "elif(call>200):\n",
        "  calltime = (call-200)\n",
        "  charges=200+(((call-150)-calltime)*0.60)+((call-150)-calltime)*0.50+calltime*.40\n",
        "print(charges)"
      ],
      "metadata": {
        "colab": {
          "base_uri": "https://localhost:8080/"
        },
        "id": "vEqrU334-dr7",
        "outputId": "0d4fbe96-4308-488a-d3f7-d53069c3c5ce"
      },
      "execution_count": null,
      "outputs": [
        {
          "output_type": "stream",
          "name": "stdout",
          "text": [
            "enter the number of calls 500\n",
            "375.0\n"
          ]
        }
      ]
    }
  ]
}