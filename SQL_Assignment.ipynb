{
  "nbformat": 4,
  "nbformat_minor": 0,
  "metadata": {
    "colab": {
      "provenance": [],
      "authorship_tag": "ABX9TyNaWoOzb6t6Bp2PZUNQ2X5D",
      "include_colab_link": true
    },
    "kernelspec": {
      "name": "python3",
      "display_name": "Python 3"
    },
    "language_info": {
      "name": "python"
    }
  },
  "cells": [
    {
      "cell_type": "markdown",
      "metadata": {
        "id": "view-in-github",
        "colab_type": "text"
      },
      "source": [
        "<a href=\"https://colab.research.google.com/github/sathish-ram/Training4/blob/main/SQL_Assignment.ipynb\" target=\"_parent\"><img src=\"https://colab.research.google.com/assets/colab-badge.svg\" alt=\"Open In Colab\"/></a>"
      ]
    },
    {
      "cell_type": "code",
      "source": [
        "def get_office_phone_numbers(data):\n",
        "    office_phone_numbers = []\n",
        "\n",
        "    if 'phoneNumbers' in data:\n",
        "        for number_info in data['phoneNumbers']:\n",
        "            if number_info.get('type') == 'office':\n",
        "                office_phone_numbers.append(number_info.get('number'))\n",
        "    elif isinstance(data, list):\n",
        "        for item in data:\n",
        "            office_phone_numbers.extend(get_office_phone_numbers(item))\n",
        "    elif isinstance(data, dict):\n",
        "        for key, value in data.items():\n",
        "            office_phone_numbers.extend(get_office_phone_numbers(value))\n",
        "\n",
        "    return office_phone_numbers\n",
        "\n",
        "json_contents = \"\"\"\n",
        "[\n",
        "    {\"firstName\":\"John\",\"lastName\":\"Smith\",\"isAlive\":true,\"age\":27,\"address\":{\"streetAddress\":\"21 2nd Street\",\"city\":\"New York\",\"state\":\"NY\",\"postalCode\":\"10021-3100\"},\"phoneNumbers\":[{\"type\":\"home\",\"number\":\"212 555-1234\"},{\"type\":\"office\",\"number\":\"646 555-4567\"}],\"children\":[\"Catherine\",\"Thomas\",\"Trevor\"],\"spouse\":null},\n",
        "{\"firstName\":\"John1\",\"lastName\":\"Smith\",\"isAlive\":true,\"age\":27,\"address\":{\"streetAddress\":\"21 2nd Street\",\"city\":\"New York\",\"state\":\"NY\",\"postalCode\":\"10021-3100\"},\"phoneNumbers\":[{\"type\":\"home\",\"number\":\"212 555-1234\"},{\"type\":\"office\",\"number\":\"646 555-4567\"}],\"children\":[\"Catherine\",\"Thomas\",\"Trevor\"],\"spouse\":null}\n",
        "]\n",
        "\"\"\"\n",
        "\n",
        "json_data = json.loads(json_contents)\n",
        "office_phone_numbers = get_office_phone_numbers(json_data)\n",
        "\n",
        "if office_phone_numbers:\n",
        "    for i, phone_number in enumerate(office_phone_numbers, start=1):\n",
        "        print(f\"Office Phone Number {i}: {phone_number}\")\n",
        "else:\n",
        "    print(\"Office Phone Numbers not found.\")"
      ],
      "metadata": {
        "colab": {
          "base_uri": "https://localhost:8080/"
        },
        "id": "FCE6D7g8tP3u",
        "outputId": "9550f88a-1593-4a4d-ef80-bcbbdb84e884"
      },
      "execution_count": null,
      "outputs": [
        {
          "output_type": "stream",
          "name": "stdout",
          "text": [
            "Office Phone Number 1: 646 555-4567\n",
            "Office Phone Number 2: 646 555-4567\n"
          ]
        }
      ]
    },
    {
      "cell_type": "markdown",
      "source": [
        "# New Section"
      ],
      "metadata": {
        "id": "pPuM2Xgxqqty"
      }
    },
    {
      "cell_type": "code",
      "source": [],
      "metadata": {
        "id": "bg05ktG5qJr0"
      },
      "execution_count": null,
      "outputs": []
    }
  ]
}